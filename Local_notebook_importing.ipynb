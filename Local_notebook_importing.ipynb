{
  "nbformat": 4,
  "nbformat_minor": 0,
  "metadata": {
    "colab": {
      "name": "Local notebook importing.ipynb",
      "provenance": [],
      "authorship_tag": "ABX9TyPm4q7fixtDOcbnIR5y6C3O",
      "include_colab_link": true
    },
    "kernelspec": {
      "name": "python3",
      "display_name": "Python 3"
    }
  },
  "cells": [
    {
      "cell_type": "markdown",
      "metadata": {
        "id": "view-in-github",
        "colab_type": "text"
      },
      "source": [
        "<a href=\"https://colab.research.google.com/github/jberkow713/DS-Unit-3-Sprint-1-Software-Engineering/blob/master/Local_notebook_importing.ipynb\" target=\"_parent\"><img src=\"https://colab.research.google.com/assets/colab-badge.svg\" alt=\"Open In Colab\"/></a>"
      ]
    },
    {
      "cell_type": "code",
      "metadata": {
        "id": "cI3nsJ7JA1_g",
        "colab_type": "code",
        "colab": {
          "base_uri": "https://localhost:8080/",
          "height": 164
        },
        "outputId": "aff6bea5-6b39-44ae-a6ac-7ab233291759"
      },
      "source": [
        "pip install -i https://test.pypi.org/simple/ lambdata-jberkow713==1.3"
      ],
      "execution_count": 17,
      "outputs": [
        {
          "output_type": "stream",
          "text": [
            "Looking in indexes: https://test.pypi.org/simple/\n",
            "Collecting lambdata-jberkow713==1.3\n",
            "  Downloading https://test-files.pythonhosted.org/packages/2c/d7/d01ae5bd1546a044957a2fc70b9e93ed16a0043c001b7057e916a4903496/lambdata_jberkow713-1.3-py3-none-any.whl\n",
            "Installing collected packages: lambdata-jberkow713\n",
            "  Found existing installation: lambdata-jberkow713 1.2\n",
            "    Uninstalling lambdata-jberkow713-1.2:\n",
            "      Successfully uninstalled lambdata-jberkow713-1.2\n",
            "Successfully installed lambdata-jberkow713-1.3\n"
          ],
          "name": "stdout"
        }
      ]
    },
    {
      "cell_type": "code",
      "metadata": {
        "id": "jpjKZDs2BDJU",
        "colab_type": "code",
        "colab": {}
      },
      "source": [
        "from lambdata_jberkow713 import my_mod\n",
        "\n",
        "import pandas as pd\n",
        "import numpy as np\n",
        "\n"
      ],
      "execution_count": 0,
      "outputs": []
    },
    {
      "cell_type": "code",
      "metadata": {
        "id": "cyrCHvH5IZeA",
        "colab_type": "code",
        "colab": {
          "base_uri": "https://localhost:8080/",
          "height": 54
        },
        "outputId": "15fc5636-398e-40c2-cfb5-2a5e11fbb3e7"
      },
      "source": [
        " from lambdata_jberkow713.my_mod import shrink\n",
        " from lambdata_jberkow713.my_mod import Berkofy\n",
        " print(shrink(3))\n",
        " Berkofy(8)"
      ],
      "execution_count": 37,
      "outputs": [
        {
          "output_type": "stream",
          "text": [
            "0.1111111111111111\n"
          ],
          "name": "stdout"
        },
        {
          "output_type": "execute_result",
          "data": {
            "text/plain": [
              "57.2"
            ]
          },
          "metadata": {
            "tags": []
          },
          "execution_count": 37
        }
      ]
    }
  ]
}