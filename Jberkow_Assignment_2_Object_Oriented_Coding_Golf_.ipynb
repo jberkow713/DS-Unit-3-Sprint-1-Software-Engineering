{
  "nbformat": 4,
  "nbformat_minor": 0,
  "metadata": {
    "colab": {
      "name": "Jberkow Assignment 2 Object Oriented Coding Golf .ipynb",
      "provenance": [],
      "authorship_tag": "ABX9TyMMzF0d9JTWLnMyfez+kbP4",
      "include_colab_link": true
    },
    "kernelspec": {
      "name": "python3",
      "display_name": "Python 3"
    }
  },
  "cells": [
    {
      "cell_type": "markdown",
      "metadata": {
        "id": "view-in-github",
        "colab_type": "text"
      },
      "source": [
        "<a href=\"https://colab.research.google.com/github/jberkow713/DS-Unit-3-Sprint-1-Software-Engineering/blob/master/Jberkow_Assignment_2_Object_Oriented_Coding_Golf_.ipynb\" target=\"_parent\"><img src=\"https://colab.research.google.com/assets/colab-badge.svg\" alt=\"Open In Colab\"/></a>"
      ]
    },
    {
      "cell_type": "code",
      "metadata": {
        "id": "wRA9t-TqhWzU",
        "colab_type": "code",
        "colab": {
          "base_uri": "https://localhost:8080/",
          "height": 129
        },
        "outputId": "8f795c64-7ade-4a7f-84e9-a688c9edef03"
      },
      "source": [
        "pip install -i https://test.pypi.org/simple/ lambdata-jberkow713==1.3"
      ],
      "execution_count": 1,
      "outputs": [
        {
          "output_type": "stream",
          "text": [
            "Looking in indexes: https://test.pypi.org/simple/\n",
            "Collecting lambdata-jberkow713==1.3\n",
            "  Downloading https://test-files.pythonhosted.org/packages/2c/d7/d01ae5bd1546a044957a2fc70b9e93ed16a0043c001b7057e916a4903496/lambdata_jberkow713-1.3-py3-none-any.whl\n",
            "Installing collected packages: lambdata-jberkow713\n",
            "Successfully installed lambdata-jberkow713-1.3\n"
          ],
          "name": "stdout"
        }
      ]
    },
    {
      "cell_type": "code",
      "metadata": {
        "id": "0YxQKoPshY8X",
        "colab_type": "code",
        "colab": {}
      },
      "source": [
        "from lambdata_jberkow713 import my_mod\n",
        "\n",
        "import pandas as pd\n",
        "import numpy as np"
      ],
      "execution_count": 0,
      "outputs": []
    },
    {
      "cell_type": "code",
      "metadata": {
        "id": "pDidHN6phZGb",
        "colab_type": "code",
        "colab": {
          "base_uri": "https://localhost:8080/",
          "height": 54
        },
        "outputId": "f64ad40d-41f4-4dae-bfdc-31904393c397"
      },
      "source": [
        "from lambdata_jberkow713.my_mod import shrink\n",
        "from lambdata_jberkow713.my_mod import Berkofy\n",
        "print(shrink(3))\n",
        "Berkofy(8)"
      ],
      "execution_count": 4,
      "outputs": [
        {
          "output_type": "stream",
          "text": [
            "0.1111111111111111\n"
          ],
          "name": "stdout"
        },
        {
          "output_type": "execute_result",
          "data": {
            "text/plain": [
              "57.2"
            ]
          },
          "metadata": {
            "tags": []
          },
          "execution_count": 4
        }
      ]
    },
    {
      "cell_type": "code",
      "metadata": {
        "id": "rgvIBRn_hh-4",
        "colab_type": "code",
        "colab": {}
      },
      "source": [
        ""
      ],
      "execution_count": 0,
      "outputs": []
    },
    {
      "cell_type": "code",
      "metadata": {
        "id": "7DEewX4shiBR",
        "colab_type": "code",
        "colab": {
          "base_uri": "https://localhost:8080/",
          "height": 276
        },
        "outputId": "eda79892-68b6-474d-b878-dc7b4b3f95e7"
      },
      "source": [
        "!pip install --upgrade autopep8"
      ],
      "execution_count": 5,
      "outputs": [
        {
          "output_type": "stream",
          "text": [
            "Collecting autopep8\n",
            "\u001b[?25l  Downloading https://files.pythonhosted.org/packages/41/5b/3bd26811d311ae0b819487a3d97557ca0181de1c49a8dca1ab2c8dfac4f6/autopep8-1.5.2.tar.gz (117kB)\n",
            "\u001b[K     |████████████████████████████████| 122kB 3.4MB/s \n",
            "\u001b[?25hCollecting pycodestyle>=2.5.0\n",
            "\u001b[?25l  Downloading https://files.pythonhosted.org/packages/0e/0c/04a353e104d2f324f8ee5f4b32012618c1c86dd79e52a433b64fceed511b/pycodestyle-2.5.0-py2.py3-none-any.whl (51kB)\n",
            "\u001b[K     |████████████████████████████████| 51kB 5.1MB/s \n",
            "\u001b[?25hBuilding wheels for collected packages: autopep8\n",
            "  Building wheel for autopep8 (setup.py) ... \u001b[?25l\u001b[?25hdone\n",
            "  Created wheel for autopep8: filename=autopep8-1.5.2-py2.py3-none-any.whl size=43754 sha256=5fa215d23eff29eb360ced1d1e5349f9132b5d46252e635c2535f2aa9681fb69\n",
            "  Stored in directory: /root/.cache/pip/wheels/b0/b0/ba/2ab847c5da4ba60ba4682ba33fcc0783c956cda5ff22b2037f\n",
            "Successfully built autopep8\n",
            "Installing collected packages: pycodestyle, autopep8\n",
            "Successfully installed autopep8-1.5.2 pycodestyle-2.5.0\n"
          ],
          "name": "stdout"
        }
      ]
    },
    {
      "cell_type": "code",
      "metadata": {
        "id": "lW4DL1vJk4EJ",
        "colab_type": "code",
        "colab": {}
      },
      "source": [
        ""
      ],
      "execution_count": 0,
      "outputs": []
    },
    {
      "cell_type": "code",
      "metadata": {
        "id": "XEANN7I4k4JD",
        "colab_type": "code",
        "colab": {
          "base_uri": "https://localhost:8080/",
          "height": 72
        },
        "outputId": "9b376dd2-c8ed-4cd5-8cca-0e918269795f"
      },
      "source": [
        "class Golfballdistance():\n",
        "    def __init__(self, swingspeed, smashfactor, launchangle, windcondition):\n",
        "        self.swingspeed = swingspeed\n",
        "        self.smashfactor = smashfactor\n",
        "        self.launchangle = launchangle\n",
        "        self.windcondition = windcondition\n",
        "\n",
        "    def onthetee(self):\n",
        "        print(\"Golf ball whacker guy swung\", self.swingspeed, \n",
        "        \"mph with a launchangle of\", self.launchangle, \n",
        "        \" degrees and a smashfactor of\",\n",
        "        self.smashfactor )\n",
        "\n",
        "    def nextup(self):\n",
        "        print(\"Next golf ball whacker guy, please step up!\") \n",
        "\n",
        "\n",
        "if __name__ == \"__main__\":\n",
        "\n",
        "    Golfballdistance1 = Golfballdistance(140, 1.5, 8, \"head\")\n",
        "    Golfballdistance1.onthetee()\n",
        "    Golfballdistance1.nextup()\n",
        "\n",
        "    Golfballdistance2 = Golfballdistance(145, 1.45, 9, \"tail\")\n",
        "    Golfballdistance2.onthetee()\n"
      ],
      "execution_count": 12,
      "outputs": [
        {
          "output_type": "stream",
          "text": [
            "Golf ball whacker guy swung 140 mph with a launchangle of 8  degrees and a smashfactor of 1.5\n",
            "Next golf ball whacker guy, please step up!\n",
            "Golf ball whacker guy swung 145 mph with a launchangle of 9  degrees and a smashfactor of 1.45\n"
          ],
          "name": "stdout"
        }
      ]
    }
  ]
}